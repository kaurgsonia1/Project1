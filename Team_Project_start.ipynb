{
 "cells": [
  {
   "cell_type": "code",
   "execution_count": 13,
   "metadata": {},
   "outputs": [],
   "source": [
    "import pandas as pd\n",
    "from pycoingecko import CoinGeckoAPI\n",
    "import numpy as np\n",
    "import panel as pn\n",
    "pn.extension('plotly')\n",
    "import plotly.express as px\n",
    "from pathlib import Path\n",
    "#!pip install quandl\n",
    "import quandl\n",
    "import hvplot.pandas\n",
    "#import matplotlib.pyplot as plt\n",
    "import alpaca_trade_api as tradeapi\n",
    "#from MCForecastTools import MCSimulation\n",
    "import matplotlib.pyplot as plt\n",
    "import alpaca_trade_api as tradeapi\n",
    "#from MCForecastTools import MCSimulation\n",
    "import os\n",
    "from pathlib import Path\n",
    "from dotenv import load_dotenv\n",
    "import requests\n",
    "import warnings\n",
    "warnings.filterwarnings('ignore')\n",
    "%matplotlib inline\n"
   ]
  },
  {
   "cell_type": "code",
   "execution_count": 23,
   "metadata": {},
   "outputs": [
    {
     "data": {
      "text/plain": [
       "<pycoingecko.api.CoinGeckoAPI at 0x257d44a8940>"
      ]
     },
     "execution_count": 23,
     "metadata": {},
     "output_type": "execute_result"
    }
   ],
   "source": [
    "#cg_url  = url + \"?format=json\"\n",
    "cg = CoinGeckoAPI(\"https://api.coingecko.com/api/v3/\")\n",
    "#type(cg)\n",
    "#cg_url\n",
    "#r=requests.get\n",
    "cg\n"
   ]
  },
  {
   "cell_type": "code",
   "execution_count": 33,
   "metadata": {},
   "outputs": [
    {
     "data": {
      "text/plain": [
       "{'litecoin': {'usd': 225.8},\n",
       " 'chainlink': {'usd': 32.69},\n",
       " 'bitcoin': {'usd': 57891},\n",
       " 'ethereum': {'usd': 2075.42},\n",
       " 'vechain': {'usd': 0.119165},\n",
       " 'theta-token': {'usd': 12.94}}"
      ]
     },
     "execution_count": 33,
     "metadata": {},
     "output_type": "execute_result"
    }
   ],
   "source": [
    "cg.get_price(ids=['bitcoin', 'litecoin', 'ethereum', 'theta-token', 'vechain', 'chainlink'], vs_currencies='usd', history=90, days='365')"
   ]
  },
  {
   "cell_type": "code",
   "execution_count": 60,
   "metadata": {},
   "outputs": [
    {
     "data": {
      "text/html": [
       "<div>\n",
       "<style scoped>\n",
       "    .dataframe tbody tr th:only-of-type {\n",
       "        vertical-align: middle;\n",
       "    }\n",
       "\n",
       "    .dataframe tbody tr th {\n",
       "        vertical-align: top;\n",
       "    }\n",
       "\n",
       "    .dataframe thead th {\n",
       "        text-align: right;\n",
       "    }\n",
       "</style>\n",
       "<table border=\"1\" class=\"dataframe\">\n",
       "  <thead>\n",
       "    <tr style=\"text-align: right;\">\n",
       "      <th></th>\n",
       "      <th>datetime</th>\n",
       "      <th>date</th>\n",
       "      <th>hour</th>\n",
       "      <th>currency_name</th>\n",
       "      <th>value</th>\n",
       "    </tr>\n",
       "  </thead>\n",
       "  <tbody>\n",
       "    <tr>\n",
       "      <th>6501</th>\n",
       "      <td>2020-12-31 00:00:00</td>\n",
       "      <td>2020-12-31</td>\n",
       "      <td>0</td>\n",
       "      <td>tron</td>\n",
       "      <td>0.026972</td>\n",
       "    </tr>\n",
       "    <tr>\n",
       "      <th>6502</th>\n",
       "      <td>2021-01-01 00:00:00</td>\n",
       "      <td>2021-01-01</td>\n",
       "      <td>0</td>\n",
       "      <td>tron</td>\n",
       "      <td>0.026840</td>\n",
       "    </tr>\n",
       "    <tr>\n",
       "      <th>6503</th>\n",
       "      <td>2021-01-02 00:00:00</td>\n",
       "      <td>2021-01-02</td>\n",
       "      <td>0</td>\n",
       "      <td>tron</td>\n",
       "      <td>0.026946</td>\n",
       "    </tr>\n",
       "    <tr>\n",
       "      <th>6504</th>\n",
       "      <td>2021-01-03 00:00:00</td>\n",
       "      <td>2021-01-03</td>\n",
       "      <td>0</td>\n",
       "      <td>tron</td>\n",
       "      <td>0.027300</td>\n",
       "    </tr>\n",
       "    <tr>\n",
       "      <th>6505</th>\n",
       "      <td>2021-01-04 00:00:00</td>\n",
       "      <td>2021-01-04</td>\n",
       "      <td>0</td>\n",
       "      <td>tron</td>\n",
       "      <td>0.029769</td>\n",
       "    </tr>\n",
       "    <tr>\n",
       "      <th>...</th>\n",
       "      <td>...</td>\n",
       "      <td>...</td>\n",
       "      <td>...</td>\n",
       "      <td>...</td>\n",
       "      <td>...</td>\n",
       "    </tr>\n",
       "    <tr>\n",
       "      <th>6596</th>\n",
       "      <td>2021-04-05 00:00:00</td>\n",
       "      <td>2021-04-05</td>\n",
       "      <td>0</td>\n",
       "      <td>tron</td>\n",
       "      <td>0.128210</td>\n",
       "    </tr>\n",
       "    <tr>\n",
       "      <th>6597</th>\n",
       "      <td>2021-04-06 00:00:00</td>\n",
       "      <td>2021-04-06</td>\n",
       "      <td>0</td>\n",
       "      <td>tron</td>\n",
       "      <td>0.138490</td>\n",
       "    </tr>\n",
       "    <tr>\n",
       "      <th>6598</th>\n",
       "      <td>2021-04-07 00:00:00</td>\n",
       "      <td>2021-04-07</td>\n",
       "      <td>0</td>\n",
       "      <td>tron</td>\n",
       "      <td>0.124925</td>\n",
       "    </tr>\n",
       "    <tr>\n",
       "      <th>6599</th>\n",
       "      <td>2021-04-08 00:00:00</td>\n",
       "      <td>2021-04-08</td>\n",
       "      <td>0</td>\n",
       "      <td>tron</td>\n",
       "      <td>0.111431</td>\n",
       "    </tr>\n",
       "    <tr>\n",
       "      <th>6605</th>\n",
       "      <td>2021-04-08 19:54:21</td>\n",
       "      <td>2021-04-08</td>\n",
       "      <td>19</td>\n",
       "      <td>tron</td>\n",
       "      <td>0.123187</td>\n",
       "    </tr>\n",
       "  </tbody>\n",
       "</table>\n",
       "<p>100 rows × 5 columns</p>\n",
       "</div>"
      ],
      "text/plain": [
       "                datetime        date  hour currency_name     value\n",
       "6501 2020-12-31 00:00:00  2020-12-31     0          tron  0.026972\n",
       "6502 2021-01-01 00:00:00  2021-01-01     0          tron  0.026840\n",
       "6503 2021-01-02 00:00:00  2021-01-02     0          tron  0.026946\n",
       "6504 2021-01-03 00:00:00  2021-01-03     0          tron  0.027300\n",
       "6505 2021-01-04 00:00:00  2021-01-04     0          tron  0.029769\n",
       "...                  ...         ...   ...           ...       ...\n",
       "6596 2021-04-05 00:00:00  2021-04-05     0          tron  0.128210\n",
       "6597 2021-04-06 00:00:00  2021-04-06     0          tron  0.138490\n",
       "6598 2021-04-07 00:00:00  2021-04-07     0          tron  0.124925\n",
       "6599 2021-04-08 00:00:00  2021-04-08     0          tron  0.111431\n",
       "6605 2021-04-08 19:54:21  2021-04-08    19          tron  0.123187\n",
       "\n",
       "[100 rows x 5 columns]"
      ]
     },
     "execution_count": 60,
     "metadata": {},
     "output_type": "execute_result"
    }
   ],
   "source": [
    "#cg = CoinGeckoAPI()\n",
    "gecko_list = [\n",
    "    \"bitcoin\",\n",
    "    \"ethereum\",\n",
    "    \"litecoin\",  \n",
    "    \"chainlink\",\n",
    "    #\"bitcoin-cash\",\n",
    "    \"ripple\",\n",
    "    #\"bitcoin-cash-sv\",\n",
    "    \"tron\",\n",
    "]\n",
    "############################\n",
    "df_cyptocurrency = pd.concat(frame_list,axis=1).sort_index()\n",
    "df_cyptocurrency \n",
    "\n",
    "timePeriod = 1095\n",
    "\n",
    "data = {}\n",
    "for coin in gecko_list:\n",
    "    try:\n",
    "        nested_lists = cg.get_coin_market_chart_by_id(\n",
    "            id=coin, vs_currency=\"usd\", days=timePeriod\n",
    "        )[\"prices\"]\n",
    "        data[coin] = {}\n",
    "        data[coin][\"timestamps\"], data[coin][\"values\"] = zip(*nested_lists)\n",
    "\n",
    "    except Exception as e:\n",
    "        print(e)\n",
    "        print(\"coin: \" + coin)\n",
    "\n",
    "frame_list = [\n",
    "    pd.DataFrame(data[coin][\"values\"], index=data[coin][\"timestamps\"], columns=[coin])\n",
    "    for coin in gecko_list\n",
    "    if coin in data\n",
    "]\n",
    "\n",
    "###################################\n",
    "df_cyptocurrency[\"datetime\"] = pd.to_datetime(df_cyptocurrency.index, unit=\"ms\")\n",
    "df_cyptocurrency[\"date\"] = df_cyptocurrency[\"datetime\"].dt.date\n",
    "df_cyptocurrency[\"hour\"] = df_cyptocurrency[\"datetime\"].dt.hour\n",
    "\n",
    "####################################\n",
    "\n",
    "df_cyptocurrency = df_cyptocurrency.melt(\n",
    "    id_vars=[\"datetime\", \"date\", \"hour\"], var_name=\"currency_name\", ignore_index=True\n",
    ")\n",
    "df_cyptocurrency.dropna().tail(100)"
   ]
  },
  {
   "cell_type": "code",
   "execution_count": 61,
   "metadata": {},
   "outputs": [
    {
     "data": {},
     "metadata": {},
     "output_type": "display_data"
    },
    {
     "data": {
      "application/vnd.holoviews_exec.v0+json": "",
      "text/html": [
       "<div id='1643'>\n",
       "\n",
       "\n",
       "\n",
       "\n",
       "\n",
       "  <div class=\"bk-root\" id=\"e09300dc-a051-4677-bbe0-2b7f3fc8ee7e\" data-root-id=\"1643\"></div>\n",
       "</div>\n",
       "<script type=\"application/javascript\">(function(root) {\n",
       "  function embed_document(root) {\n",
       "    var docs_json = {\"0e496628-bae1-425e-989b-0572719d2a74\":{\"roots\":{\"references\":[{\"attributes\":{},\"id\":\"1689\",\"type\":\"BasicTickFormatter\"},{\"attributes\":{\"days\":[1,4,7,10,13,16,19,22,25,28]},\"id\":\"1704\",\"type\":\"DaysTicker\"},{\"attributes\":{\"months\":[0,1,2,3,4,5,6,7,8,9,10,11]},\"id\":\"1707\",\"type\":\"MonthsTicker\"},{\"attributes\":{\"months\":[0,2,4,6,8,10]},\"id\":\"1708\",\"type\":\"MonthsTicker\"},{\"attributes\":{\"axis\":{\"id\":\"1657\"},\"grid_line_color\":null,\"ticker\":null},\"id\":\"1660\",\"type\":\"Grid\"},{\"attributes\":{\"days\":[1,15]},\"id\":\"1706\",\"type\":\"DaysTicker\"},{\"attributes\":{\"months\":[0,6]},\"id\":\"1710\",\"type\":\"MonthsTicker\"},{\"attributes\":{\"days\":[1,8,15,22]},\"id\":\"1705\",\"type\":\"DaysTicker\"},{\"attributes\":{},\"id\":\"1711\",\"type\":\"YearsTicker\"},{\"attributes\":{\"margin\":[20,20,20,20],\"min_width\":250,\"options\":[\"bitcoin\",\"ethereum\",\"litecoin\",\"chainlink\",\"ripple\",\"tron\"],\"title\":\"currency_name\",\"value\":\"bitcoin\",\"width\":250},\"id\":\"1738\",\"type\":\"Select\"},{\"attributes\":{\"margin\":[5,5,5,5],\"name\":\"VSpacer03470\",\"sizing_mode\":\"stretch_height\"},\"id\":\"1736\",\"type\":\"Spacer\"},{\"attributes\":{\"months\":[0,4,8]},\"id\":\"1709\",\"type\":\"MonthsTicker\"},{\"attributes\":{},\"id\":\"1713\",\"type\":\"UnionRenderers\"},{\"attributes\":{\"axis_label\":\"value\",\"bounds\":\"auto\",\"formatter\":{\"id\":\"1689\"},\"major_label_orientation\":\"horizontal\",\"ticker\":{\"id\":\"1662\"}},\"id\":\"1661\",\"type\":\"LinearAxis\"},{\"attributes\":{},\"id\":\"1655\",\"type\":\"LinearScale\"},{\"attributes\":{\"num_minor_ticks\":5,\"tickers\":[{\"id\":\"1700\"},{\"id\":\"1701\"},{\"id\":\"1702\"},{\"id\":\"1703\"},{\"id\":\"1704\"},{\"id\":\"1705\"},{\"id\":\"1706\"},{\"id\":\"1707\"},{\"id\":\"1708\"},{\"id\":\"1709\"},{\"id\":\"1710\"},{\"id\":\"1711\"}]},\"id\":\"1658\",\"type\":\"DatetimeTicker\"},{\"attributes\":{\"end\":67125.0550110527,\"reset_end\":67125.0550110527,\"reset_start\":-2593.229928377947,\"start\":-2593.229928377947,\"tags\":[[[\"value\",\"value\",null]]]},\"id\":\"1646\",\"type\":\"Range1d\"},{\"attributes\":{\"active_drag\":\"auto\",\"active_inspect\":\"auto\",\"active_multi\":null,\"active_scroll\":\"auto\",\"active_tap\":\"auto\",\"tools\":[{\"id\":\"1647\"},{\"id\":\"1665\"},{\"id\":\"1666\"},{\"id\":\"1667\"},{\"id\":\"1668\"},{\"id\":\"1669\"}]},\"id\":\"1671\",\"type\":\"Toolbar\"},{\"attributes\":{\"margin\":[5,5,5,5],\"name\":\"HSpacer03473\",\"sizing_mode\":\"stretch_width\"},\"id\":\"1644\",\"type\":\"Spacer\"},{\"attributes\":{\"bottom_units\":\"screen\",\"fill_alpha\":0.5,\"fill_color\":\"lightgrey\",\"left_units\":\"screen\",\"level\":\"overlay\",\"line_alpha\":1.0,\"line_color\":\"black\",\"line_dash\":[4,4],\"line_width\":2,\"right_units\":\"screen\",\"top_units\":\"screen\"},\"id\":\"1670\",\"type\":\"BoxAnnotation\"},{\"attributes\":{\"callback\":null,\"formatters\":{\"@{datetime}\":\"datetime\"},\"renderers\":[{\"id\":\"1684\"}],\"tags\":[\"hv_created\"],\"tooltips\":[[\"datetime\",\"@{datetime}\"],[\"value\",\"@{value}\"]]},\"id\":\"1647\",\"type\":\"HoverTool\"},{\"attributes\":{\"children\":[{\"id\":\"1738\"}],\"css_classes\":[\"panel-widget-box\"],\"margin\":[5,5,5,5],\"name\":\"WidgetBox03465\"},\"id\":\"1737\",\"type\":\"Column\"},{\"attributes\":{},\"id\":\"1653\",\"type\":\"LinearScale\"},{\"attributes\":{\"margin\":[5,5,5,5],\"name\":\"VSpacer03471\",\"sizing_mode\":\"stretch_height\"},\"id\":\"1739\",\"type\":\"Spacer\"},{\"attributes\":{\"text\":\"currency_name: bitcoin\",\"text_color\":{\"value\":\"black\"},\"text_font_size\":{\"value\":\"12pt\"}},\"id\":\"1649\",\"type\":\"Title\"},{\"attributes\":{\"data\":{\"datetime\":{\"__ndarray__\":\"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\",\"dtype\":\"float64\",\"order\":\"little\",\"shape\":[1101]},\"value\":{\"__ndarray__\":\"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\",\"dtype\":\"float64\",\"order\":\"little\",\"shape\":[1101]}},\"selected\":{\"id\":\"1679\"},\"selection_policy\":{\"id\":\"1713\"}},\"id\":\"1678\",\"type\":\"ColumnDataSource\"},{\"attributes\":{\"end\":1617911661000.0,\"reset_end\":1617911661000.0,\"reset_start\":1523318400000.0,\"start\":1523318400000.0,\"tags\":[[[\"datetime\",\"datetime\",null]]]},\"id\":\"1645\",\"type\":\"Range1d\"},{\"attributes\":{\"line_color\":\"#30a2da\",\"line_width\":2,\"x\":{\"field\":\"datetime\"},\"y\":{\"field\":\"value\"}},\"id\":\"1681\",\"type\":\"Line\"},{\"attributes\":{\"line_alpha\":0.1,\"line_color\":\"#30a2da\",\"line_width\":2,\"x\":{\"field\":\"datetime\"},\"y\":{\"field\":\"value\"}},\"id\":\"1682\",\"type\":\"Line\"},{\"attributes\":{\"below\":[{\"id\":\"1657\"}],\"center\":[{\"id\":\"1660\"},{\"id\":\"1664\"}],\"left\":[{\"id\":\"1661\"}],\"margin\":[5,5,5,5],\"min_border_bottom\":10,\"min_border_left\":10,\"min_border_right\":10,\"min_border_top\":10,\"plot_height\":300,\"plot_width\":700,\"renderers\":[{\"id\":\"1684\"}],\"sizing_mode\":\"fixed\",\"title\":{\"id\":\"1649\"},\"toolbar\":{\"id\":\"1671\"},\"x_range\":{\"id\":\"1645\"},\"x_scale\":{\"id\":\"1653\"},\"y_range\":{\"id\":\"1646\"},\"y_scale\":{\"id\":\"1655\"}},\"id\":\"1648\",\"subtype\":\"Figure\",\"type\":\"Plot\"},{\"attributes\":{},\"id\":\"1665\",\"type\":\"SaveTool\"},{\"attributes\":{\"children\":[{\"id\":\"1644\"},{\"id\":\"1648\"},{\"id\":\"1734\"},{\"id\":\"1735\"}],\"margin\":[0,0,0,0],\"name\":\"Row03464\"},\"id\":\"1643\",\"type\":\"Row\"},{\"attributes\":{},\"id\":\"1666\",\"type\":\"PanTool\"},{\"attributes\":{},\"id\":\"1679\",\"type\":\"Selection\"},{\"attributes\":{\"data_source\":{\"id\":\"1678\"},\"glyph\":{\"id\":\"1681\"},\"hover_glyph\":null,\"muted_glyph\":{\"id\":\"1683\"},\"nonselection_glyph\":{\"id\":\"1682\"},\"selection_glyph\":null,\"view\":{\"id\":\"1685\"}},\"id\":\"1684\",\"type\":\"GlyphRenderer\"},{\"attributes\":{},\"id\":\"1667\",\"type\":\"WheelZoomTool\"},{\"attributes\":{\"client_comm_id\":\"7b6382c48b7b497083f4429506bc5c9e\",\"comm_id\":\"f09483a242ba47969d6abdfa84244d8b\",\"plot_id\":\"1643\"},\"id\":\"1800\",\"type\":\"panel.models.comm_manager.CommManager\"},{\"attributes\":{\"axis_label\":\"datetime\",\"bounds\":\"auto\",\"formatter\":{\"id\":\"1687\"},\"major_label_orientation\":\"horizontal\",\"ticker\":{\"id\":\"1658\"}},\"id\":\"1657\",\"type\":\"DatetimeAxis\"},{\"attributes\":{},\"id\":\"1669\",\"type\":\"ResetTool\"},{\"attributes\":{},\"id\":\"1687\",\"type\":\"DatetimeTickFormatter\"},{\"attributes\":{\"axis\":{\"id\":\"1661\"},\"dimension\":1,\"grid_line_color\":null,\"ticker\":null},\"id\":\"1664\",\"type\":\"Grid\"},{\"attributes\":{\"line_alpha\":0.2,\"line_color\":\"#30a2da\",\"line_width\":2,\"x\":{\"field\":\"datetime\"},\"y\":{\"field\":\"value\"}},\"id\":\"1683\",\"type\":\"Line\"},{\"attributes\":{\"mantissas\":[1,2,5],\"max_interval\":500.0,\"num_minor_ticks\":0},\"id\":\"1700\",\"type\":\"AdaptiveTicker\"},{\"attributes\":{},\"id\":\"1662\",\"type\":\"BasicTicker\"},{\"attributes\":{\"children\":[{\"id\":\"1736\"},{\"id\":\"1737\"},{\"id\":\"1739\"}],\"margin\":[0,0,0,0],\"name\":\"Column03472\"},\"id\":\"1735\",\"type\":\"Column\"},{\"attributes\":{\"days\":[1,2,3,4,5,6,7,8,9,10,11,12,13,14,15,16,17,18,19,20,21,22,23,24,25,26,27,28,29,30,31]},\"id\":\"1703\",\"type\":\"DaysTicker\"},{\"attributes\":{\"source\":{\"id\":\"1678\"}},\"id\":\"1685\",\"type\":\"CDSView\"},{\"attributes\":{\"margin\":[5,5,5,5],\"name\":\"HSpacer03474\",\"sizing_mode\":\"stretch_width\"},\"id\":\"1734\",\"type\":\"Spacer\"},{\"attributes\":{\"base\":60,\"mantissas\":[1,2,5,10,15,20,30],\"max_interval\":1800000.0,\"min_interval\":1000.0,\"num_minor_ticks\":0},\"id\":\"1701\",\"type\":\"AdaptiveTicker\"},{\"attributes\":{\"base\":24,\"mantissas\":[1,2,4,6,8,12],\"max_interval\":43200000.0,\"min_interval\":3600000.0,\"num_minor_ticks\":0},\"id\":\"1702\",\"type\":\"AdaptiveTicker\"},{\"attributes\":{\"overlay\":{\"id\":\"1670\"}},\"id\":\"1668\",\"type\":\"BoxZoomTool\"}],\"root_ids\":[\"1643\",\"1800\"]},\"title\":\"Bokeh Application\",\"version\":\"2.2.3\"}};\n",
       "    var render_items = [{\"docid\":\"0e496628-bae1-425e-989b-0572719d2a74\",\"root_ids\":[\"1643\"],\"roots\":{\"1643\":\"e09300dc-a051-4677-bbe0-2b7f3fc8ee7e\"}}];\n",
       "    root.Bokeh.embed.embed_items_notebook(docs_json, render_items);\n",
       "  }\n",
       "  if (root.Bokeh !== undefined && root.Bokeh.Panel !== undefined && root['Plotly'] !== undefined ) {\n",
       "    embed_document(root);\n",
       "  } else {\n",
       "    var attempts = 0;\n",
       "    var timer = setInterval(function(root) {\n",
       "      if (root.Bokeh !== undefined && root.Bokeh.Panel !== undefined && root['Plotly'] !== undefined) {\n",
       "        clearInterval(timer);\n",
       "        embed_document(root);\n",
       "      } else if (document.readyState == \"complete\") {\n",
       "        attempts++;\n",
       "        if (attempts > 100) {\n",
       "          clearInterval(timer);\n",
       "          console.log(\"Bokeh: ERROR: Unable to run BokehJS code because BokehJS library is missing\");\n",
       "        }\n",
       "      }\n",
       "    }, 10, root)\n",
       "  }\n",
       "})(window);</script>"
      ],
      "text/plain": [
       ":DynamicMap   [currency_name]\n",
       "   :Curve   [datetime]   (value)"
      ]
     },
     "execution_count": 61,
     "metadata": {
      "application/vnd.holoviews_exec.v0+json": {
       "id": "1643"
      }
     },
     "output_type": "execute_result"
    }
   ],
   "source": [
    "df_cyptocurrency.hvplot.line('datetime','value', groupby='currency_name')"
   ]
  },
  {
   "cell_type": "code",
   "execution_count": null,
   "metadata": {},
   "outputs": [],
   "source": []
  },
  {
   "cell_type": "code",
   "execution_count": 32,
   "metadata": {},
   "outputs": [
    {
     "ename": "AttributeError",
     "evalue": "'dict' object has no attribute 'head'",
     "output_type": "error",
     "traceback": [
      "\u001b[1;31m---------------------------------------------------------------------------\u001b[0m",
      "\u001b[1;31mAttributeError\u001b[0m                            Traceback (most recent call last)",
      "\u001b[1;32m<ipython-input-32-250e906ce709>\u001b[0m in \u001b[0;36m<module>\u001b[1;34m\u001b[0m\n\u001b[0;32m      1\u001b[0m \u001b[0mbtc_chart\u001b[0m \u001b[1;33m=\u001b[0m \u001b[0mcg\u001b[0m\u001b[1;33m.\u001b[0m\u001b[0mget_coin_market_chart_range_by_id\u001b[0m\u001b[1;33m(\u001b[0m\u001b[0mid\u001b[0m\u001b[1;33m=\u001b[0m\u001b[1;34m'bitcoin'\u001b[0m\u001b[1;33m,\u001b[0m\u001b[0mvs_currency\u001b[0m\u001b[1;33m=\u001b[0m\u001b[1;34m'usd'\u001b[0m\u001b[1;33m,\u001b[0m\u001b[0mfrom_timestamp\u001b[0m\u001b[1;33m=\u001b[0m\u001b[1;34m'1605096000'\u001b[0m\u001b[1;33m,\u001b[0m\u001b[0mto_timestamp\u001b[0m\u001b[1;33m=\u001b[0m\u001b[1;34m'1605099600'\u001b[0m\u001b[1;33m)\u001b[0m\u001b[1;33m\u001b[0m\u001b[1;33m\u001b[0m\u001b[0m\n\u001b[1;32m----> 2\u001b[1;33m \u001b[0mbtc_chart\u001b[0m\u001b[1;33m.\u001b[0m\u001b[0mhead\u001b[0m\u001b[1;33m(\u001b[0m\u001b[1;33m)\u001b[0m\u001b[1;33m\u001b[0m\u001b[1;33m\u001b[0m\u001b[0m\n\u001b[0m",
      "\u001b[1;31mAttributeError\u001b[0m: 'dict' object has no attribute 'head'"
     ]
    }
   ],
   "source": [
    "btc_chart = cg.get_coin_market_chart_range_by_id(id='bitcoin',vs_currency='usd',from_timestamp='1605096000',to_timestamp='1605099600')\n",
    "btc_chart.head()"
   ]
  },
  {
   "cell_type": "code",
   "execution_count": null,
   "metadata": {},
   "outputs": [],
   "source": []
  },
  {
   "cell_type": "code",
   "execution_count": null,
   "metadata": {},
   "outputs": [],
   "source": []
  },
  {
   "cell_type": "code",
   "execution_count": null,
   "metadata": {},
   "outputs": [],
   "source": []
  },
  {
   "cell_type": "code",
   "execution_count": null,
   "metadata": {},
   "outputs": [],
   "source": []
  },
  {
   "cell_type": "code",
   "execution_count": null,
   "metadata": {},
   "outputs": [],
   "source": []
  },
  {
   "cell_type": "code",
   "execution_count": null,
   "metadata": {},
   "outputs": [],
   "source": []
  },
  {
   "cell_type": "code",
   "execution_count": null,
   "metadata": {},
   "outputs": [],
   "source": []
  },
  {
   "cell_type": "code",
   "execution_count": null,
   "metadata": {},
   "outputs": [],
   "source": []
  },
  {
   "cell_type": "code",
   "execution_count": null,
   "metadata": {},
   "outputs": [],
   "source": []
  },
  {
   "cell_type": "code",
   "execution_count": null,
   "metadata": {},
   "outputs": [],
   "source": []
  }
 ],
 "metadata": {
  "kernelspec": {
   "display_name": "Python [conda env:uncc] *",
   "language": "python",
   "name": "conda-env-uncc-py"
  },
  "language_info": {
   "codemirror_mode": {
    "name": "ipython",
    "version": 3
   },
   "file_extension": ".py",
   "mimetype": "text/x-python",
   "name": "python",
   "nbconvert_exporter": "python",
   "pygments_lexer": "ipython3",
   "version": "3.8.5"
  }
 },
 "nbformat": 4,
 "nbformat_minor": 4
}
